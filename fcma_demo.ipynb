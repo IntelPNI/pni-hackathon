{
 "cells": [
  {
   "cell_type": "markdown",
   "metadata": {},
   "source": [
    "### Correlation-based voxel selection"
   ]
  },
  {
   "cell_type": "code",
   "execution_count": null,
   "metadata": {
    "collapsed": true
   },
   "outputs": [],
   "source": [
    "# This is a command using SLURM you can try on Metacortex (or other system with similar SLURM settings)\n",
    "OMP_NUM_THREADS=32 srun -n 47 -c 32 -t 1-0 -p fcma python voxel_selection.py face_scene bet.nii.gz face_scene/mask.nii.gz face_scene/fs_epoch_labels.npy 12 18"
   ]
  },
  {
   "cell_type": "markdown",
   "metadata": {},
   "source": [
    "### Correlation-based training and classification"
   ]
  },
  {
   "cell_type": "code",
   "execution_count": null,
   "metadata": {
    "collapsed": true
   },
   "outputs": [],
   "source": [
    "# This is a command using SLURM you can try on Metacortex (or other system with similar SLURM settings)\n",
    "OMP_NUM_THREADS=32 srun -n 1 -c 32 -t 1-0 -p fcma python classification.py face_scene bet.nii.gz face_scene/visual_top_mask.nii.gz face_scene/fs_epoch_labels.npy"
   ]
  },
  {
   "cell_type": "markdown",
   "metadata": {},
   "source": [
    "### Activity-based voxel selection"
   ]
  },
  {
   "cell_type": "code",
   "execution_count": null,
   "metadata": {
    "collapsed": true
   },
   "outputs": [],
   "source": [
    "# This is a command using SLURM you can try on Metacortex (or other system with similar SLURM settings)\n",
    "srun -n 47 -c 32 -t 1-0 -p fcma python mvpa_voxel_selection.py face_scene bet.nii.gz face_scene/mask.nii.gz face_scene/fs_epoch_labels.npy 18"
   ]
  },
  {
   "cell_type": "markdown",
   "metadata": {},
   "source": [
    "### Activity-based training and classification"
   ]
  },
  {
   "cell_type": "code",
   "execution_count": null,
   "metadata": {
    "collapsed": true
   },
   "outputs": [],
   "source": [
    "# This is a command using SLURM you can try on Metacortex (or other system with similar SLURM settings)\n",
    "srun -n 1 -c 32 -t 1-0 -p fcma python mvpa_classification.py face_scene bet.nii.gz face_scene/visual_top_mask.nii.gz face_scene/fs_epoch_labels.npy"
   ]
  },
  {
   "cell_type": "markdown",
   "metadata": {},
   "source": [
    "### Standalone high-performance correlation computation"
   ]
  },
  {
   "cell_type": "code",
   "execution_count": 1,
   "metadata": {
    "collapsed": false
   },
   "outputs": [
    {
     "name": "stdout",
     "output_type": "stream",
     "text": [
      "1 loop, best of 3: 3.24 s per loop\n",
      "1 loop, best of 3: 25.4 s per loop\n"
     ]
    }
   ],
   "source": [
    "# This can be run on your laptop with brainiak installed\n",
    "import numpy as np\n",
    "from brainiak.fcma.util import compute_correlation\n",
    "from numpy.random import RandomState\n",
    "\n",
    "prng = RandomState(1234567890)\n",
    "\n",
    "a = prng.rand(34470, 12).astype(np.float32)\n",
    "%timeit compute_correlation(a, a)\n",
    "%timeit np.corrcoef(a)"
   ]
  }
 ],
 "metadata": {
  "anaconda-cloud": {},
  "kernelspec": {
   "display_name": "Python [Root]",
   "language": "python",
   "name": "Python [Root]"
  },
  "language_info": {
   "codemirror_mode": {
    "name": "ipython",
    "version": 3
   },
   "file_extension": ".py",
   "mimetype": "text/x-python",
   "name": "python",
   "nbconvert_exporter": "python",
   "pygments_lexer": "ipython3",
   "version": "3.5.2"
  }
 },
 "nbformat": 4,
 "nbformat_minor": 0
}
